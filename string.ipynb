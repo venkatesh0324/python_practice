{
  "nbformat": 4,
  "nbformat_minor": 0,
  "metadata": {
    "colab": {
      "name": "string.ipynb",
      "provenance": [],
      "authorship_tag": "ABX9TyNe2s36KSvXHbCjTV02PcIx",
      "include_colab_link": true
    },
    "kernelspec": {
      "name": "python3",
      "display_name": "Python 3"
    },
    "language_info": {
      "name": "python"
    }
  },
  "cells": [
    {
      "cell_type": "markdown",
      "metadata": {
        "id": "view-in-github",
        "colab_type": "text"
      },
      "source": [
        "<a href=\"https://colab.research.google.com/github/venkatesh0324/python_practice/blob/main/string.ipynb\" target=\"_parent\"><img src=\"https://colab.research.google.com/assets/colab-badge.svg\" alt=\"Open In Colab\"/></a>"
      ]
    },
    {
      "cell_type": "code",
      "execution_count": 7,
      "metadata": {
        "colab": {
          "base_uri": "https://localhost:8080/"
        },
        "id": "mgTJUZpw9tn4",
        "outputId": "3d19e819-bd76-4e86-e5bd-3333d90073ce"
      },
      "outputs": [
        {
          "output_type": "stream",
          "name": "stdout",
          "text": [
            "I am venkatesh coming from madhurwada by bike, I am reaching gitam by 9 and I have a class from 9 to 11.\n",
            "104\n",
            "True\n",
            "False\n",
            "v\n",
            "e\n",
            "n\n",
            "k\n",
            "a\n",
            "t\n",
            "e\n",
            "s\n",
            "h\n",
            "False\n",
            "True False\n"
          ]
        }
      ],
      "source": [
        "a='I am venkatesh coming from madhurwada by bike, I am reaching gitam by 9 and I have a class from 9 to 11.'\n",
        "print(a)\n",
        "\"\"\"len is used to print the length of the stringh\"\"\"\n",
        "print(len(a))\n",
        "\"\"\"to check a string\"\"\"\n",
        "print('gitam' in a)\n",
        "\"\"\"to check the non existing word in the string\"\"\"\n",
        "print('hemanth' in a)\n",
        "for x in 'venkatesh':\n",
        "  print(x) \n",
        "\"\"\" if not in a\"\"\"\n",
        "print('gitam' not in a)\n",
        "print('am' in a,'hemanth' in a)\n"
      ]
    },
    {
      "cell_type": "code",
      "source": [
        "\"\"\"\"slicing in string\"\"\"\n",
        "a=\"I went to RRR movie with my friends\"\n",
        "print(a[2:5])\n",
        "print(a[2:-5])\n",
        "print(a[1:5])\n",
        "print(a[4:])\n",
        "\n"
      ],
      "metadata": {
        "colab": {
          "base_uri": "https://localhost:8080/"
        },
        "id": "Sfug1e71CvHT",
        "outputId": "e60d7570-759a-4eb1-f572-cae9e3ce4ea0"
      },
      "execution_count": 21,
      "outputs": [
        {
          "output_type": "stream",
          "name": "stdout",
          "text": [
            "wen\n",
            "went to RRR movie with my fr\n",
            " wen\n",
            "nt to RRR movie with my friends\n"
          ]
        }
      ]
    },
    {
      "cell_type": "code",
      "source": [
        "## modifying a string\n",
        "a=\" Harley-Davidson, Inc., H-D, or Harley, is an American motorcycle manufacturer     \"\n",
        "print(a.upper())##upper case\n",
        "print(a.lower())## lower case\n",
        "print(a.strip())## to remove white spaces"
      ],
      "metadata": {
        "colab": {
          "base_uri": "https://localhost:8080/"
        },
        "id": "udU41dzMF9IM",
        "outputId": "a7cc3a75-a2ee-4704-db39-3b18255051c3"
      },
      "execution_count": 25,
      "outputs": [
        {
          "output_type": "stream",
          "name": "stdout",
          "text": [
            " HARLEY-DAVIDSON, INC., H-D, OR HARLEY, IS AN AMERICAN MOTORCYCLE MANUFACTURER     \n",
            " harley-davidson, inc., h-d, or harley, is an american motorcycle manufacturer     \n",
            "Harley-Davidson, Inc., H-D, or Harley, is an American motorcycle manufacturer\n"
          ]
        }
      ]
    },
    {
      "cell_type": "code",
      "source": [
        "##Replacing of letter in a string\n",
        "a=\"I went to RRR movie with my friends\"\n",
        "print(a.replace(\"R\" , \"p\"))"
      ],
      "metadata": {
        "colab": {
          "base_uri": "https://localhost:8080/"
        },
        "id": "8NRNAdpdIKOs",
        "outputId": "ff81b3ed-7c51-4fe9-e330-7143ac9d0925"
      },
      "execution_count": 26,
      "outputs": [
        {
          "output_type": "stream",
          "name": "stdout",
          "text": [
            "I went to ppp movie with my friends\n"
          ]
        }
      ]
    },
    {
      "cell_type": "code",
      "source": [
        "##string concatenation or adding two strings\n",
        "a=\" Harley-Davidson,\"\n",
        "b=\"is an American motorcycle manufacturer\"\n",
        "c=\"is love\"\n",
        "print(a+b)\n",
        "print(a+c)\n",
        "print(a+\"\"+b)\n"
      ],
      "metadata": {
        "colab": {
          "base_uri": "https://localhost:8080/"
        },
        "id": "IiNaZvKCJ0qt",
        "outputId": "b85876d7-1489-499e-cb5c-b41e32f9742b"
      },
      "execution_count": 31,
      "outputs": [
        {
          "output_type": "stream",
          "name": "stdout",
          "text": [
            " Harley-Davidson,is an American motorcycle manufacturer\n",
            " Harley-Davidson,is love\n",
            " Harley-Davidson,is an American motorcycle manufacturer\n"
          ]
        }
      ]
    },
    {
      "cell_type": "code",
      "source": [
        "##string formatting\n",
        "quantity = 3\n",
        "itemno = 567\n",
        "price = 49.95\n",
        "myorder = \"I want {} pieces of item {} for {} dollars.\"\n",
        "print(myorder.format(quantity, itemno, price))\n",
        "\n",
        "\n",
        "age = 18\n",
        "txt = \"My name is venkatesh, and I am {}\"\n",
        "print(txt.format(age))"
      ],
      "metadata": {
        "colab": {
          "base_uri": "https://localhost:8080/"
        },
        "id": "pZlvK_kbLtQV",
        "outputId": "6b0371bc-4a8e-4d18-d222-da90a9ba746a"
      },
      "execution_count": 33,
      "outputs": [
        {
          "output_type": "stream",
          "name": "stdout",
          "text": [
            "I want 3 pieces of item 567 for 49.95 dollars.\n",
            "My name is venkatesh, and I am 18\n"
          ]
        }
      ]
    }
  ]
}