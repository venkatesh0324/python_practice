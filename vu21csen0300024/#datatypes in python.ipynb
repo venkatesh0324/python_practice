{
 "cells": [
  {
   "cell_type": "code",
   "execution_count": 8,
   "id": "434fc6b9",
   "metadata": {},
   "outputs": [
    {
     "name": "stdout",
     "output_type": "stream",
     "text": [
      "<class 'int'>\n",
      "<class 'int'>\n",
      "<class 'str'>\n",
      "<class 'float'>\n",
      "True\n",
      "(10+0j)\n"
     ]
    }
   ],
   "source": [
    "# converting int to string,float,boolean,complex\n",
    "a=10\n",
    "print(type(a))\n",
    "print(type(a))\n",
    "b=str(a)\n",
    "print(type(b))\n",
    "c=float(a)\n",
    "print(type(c))\n",
    "d=bool(a)\n",
    "print(d)\n",
    "e=complex(a)\n",
    "print"
   ]
  },
  {
   "cell_type": "code",
   "execution_count": 10,
   "id": "ba2b5fb2",
   "metadata": {},
   "outputs": [
    {
     "name": "stdout",
     "output_type": "stream",
     "text": [
      "<class 'str'>\n",
      "<class 'str'>\n",
      "<class 'str'>\n",
      "<class 'float'>\n",
      "True\n",
      "<class 'complex'>\n"
     ]
    }
   ],
   "source": [
    "# converting string to int,float,boolean,complex.\n",
    "a='5'\n",
    "print(type(a))\n",
    "print(type(a))\n",
    "b=str(a)\n",
    "print(type(b))\n",
    "c=float(a)\n",
    "print(type(c))\n",
    "d=bool(a)\n",
    "print(d)\n",
    "e=complex(a)\n",
    "print(type(e))\n",
    "#cant convert alphabets into integers.hence give numbers from 0 to 9.\n"
   ]
  },
  {
   "cell_type": "code",
   "execution_count": 12,
   "id": "699b7eb0",
   "metadata": {},
   "outputs": [
    {
     "name": "stdout",
     "output_type": "stream",
     "text": [
      "<class 'float'>\n",
      "<class 'str'>\n",
      "<class 'str'>\n",
      "True\n",
      "<class 'complex'>\n"
     ]
    }
   ],
   "source": [
    "# converting float into int,string,boolean,complex.\n",
    "a=10.666\n",
    "print(type(a))\n",
    "b=str(a)\n",
    "print(type(b))\n",
    "c=str(a)\n",
    "print(type(c))\n",
    "d=bool(a)\n",
    "print(d)\n",
    "e=complex(a)\n",
    "print(type(e))"
   ]
  },
  {
   "cell_type": "code",
   "execution_count": 14,
   "id": "733efe44",
   "metadata": {},
   "outputs": [
    {
     "name": "stdout",
     "output_type": "stream",
     "text": [
      "<class 'bool'>\n",
      "<class 'str'>\n",
      "<class 'int'>\n",
      "1.0\n",
      "<class 'complex'>\n"
     ]
    }
   ],
   "source": [
    "#converting from boolean into int, float ,string,complex.\n",
    "a=True\n",
    "print(type(a))\n",
    "b=str(a)\n",
    "print(type(b))\n",
    "c=int(a)\n",
    "print(type(c))\n",
    "d=float(a)\n",
    "print(d)\n",
    "e=complex(a)\n",
    "print(type(e))"
   ]
  },
  {
   "cell_type": "code",
   "execution_count": null,
   "id": "d9b96cbc",
   "metadata": {},
   "outputs": [],
   "source": []
  }
 ],
 "metadata": {
  "kernelspec": {
   "display_name": "Python 3 (ipykernel)",
   "language": "python",
   "name": "python3"
  },
  "language_info": {
   "codemirror_mode": {
    "name": "ipython",
    "version": 3
   },
   "file_extension": ".py",
   "mimetype": "text/x-python",
   "name": "python",
   "nbconvert_exporter": "python",
   "pygments_lexer": "ipython3",
   "version": "3.9.7"
  }
 },
 "nbformat": 4,
 "nbformat_minor": 5
}
