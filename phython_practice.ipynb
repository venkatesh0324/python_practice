{
  "nbformat": 4,
  "nbformat_minor": 0,
  "metadata": {
    "colab": {
      "name": "phython practice.ipynb",
      "provenance": [],
      "authorship_tag": "ABX9TyOEQUpDevl7rtZeOFbye/kP",
      "include_colab_link": true
    },
    "kernelspec": {
      "name": "python3",
      "display_name": "Python 3"
    },
    "language_info": {
      "name": "python"
    }
  },
  "cells": [
    {
      "cell_type": "markdown",
      "metadata": {
        "id": "view-in-github",
        "colab_type": "text"
      },
      "source": [
        "<a href=\"https://colab.research.google.com/github/venkatesh0324/python_practice/blob/main/phython_practice.ipynb\" target=\"_parent\"><img src=\"https://colab.research.google.com/assets/colab-badge.svg\" alt=\"Open In Colab\"/></a>"
      ]
    },
    {
      "cell_type": "code",
      "execution_count": null,
      "metadata": {
        "colab": {
          "base_uri": "https://localhost:8080/"
        },
        "id": "vmpRrCgHIWGi",
        "outputId": "eb223f0d-c0fb-4000-8acb-b320d554b6f8"
      },
      "outputs": [
        {
          "output_type": "stream",
          "name": "stdout",
          "text": [
            "<class 'float'>\n"
          ]
        }
      ],
      "source": [
        "a=10\n",
        "b=40\n",
        "c=45\n",
        "avg=(a+b+c)/3\n",
        "print(type(avg))"
      ]
    },
    {
      "cell_type": "code",
      "source": [
        "a=int(input(\"enter a number\"))"
      ],
      "metadata": {
        "colab": {
          "base_uri": "https://localhost:8080/"
        },
        "id": "OUowPhSjKPw7",
        "outputId": "0d6e998e-6662-4805-bbb5-0e013f7c7625"
      },
      "execution_count": null,
      "outputs": [
        {
          "name": "stdout",
          "output_type": "stream",
          "text": [
            "enter a number50\n"
          ]
        }
      ]
    },
    {
      "cell_type": "code",
      "source": [
        "#converting from boolean into int, float ,string,complex.\n",
        "a=True\n",
        "print(type(a))\n",
        "b=str(a)\n",
        "print(type(b))\n",
        "c=int(a)\n",
        "print(type(c))\n",
        "d=float(a)\n",
        "print(d)\n",
        "e=complex(a)\n",
        "print(type(e))"
      ],
      "metadata": {
        "id": "OmvLz0gXt_rs"
      },
      "execution_count": null,
      "outputs": []
    },
    {
      "cell_type": "code",
      "source": [
        "# converting float into int,string,boolean,complex.\n",
        "a=10.666\n",
        "print(type(a))\n",
        "b=str(a)\n",
        "print(type(b))\n",
        "c=str(a)\n",
        "print(type(c))\n",
        "d=bool(a)\n",
        "print(d)\n",
        "e=complex(a)\n",
        "print(type(e))"
      ],
      "metadata": {
        "id": "4jYK3zA8uC2D"
      },
      "execution_count": null,
      "outputs": []
    },
    {
      "cell_type": "code",
      "source": [
        ""
      ],
      "metadata": {
        "id": "6U0aTfRSuFo5"
      },
      "execution_count": null,
      "outputs": []
    },
    {
      "cell_type": "code",
      "source": [
        "# converting string to int,float,boolean,complex.\n",
        "a='5'\n",
        "print(type(a))\n",
        "print(type(a))\n",
        "b=str(a)\n",
        "print(type(b))\n",
        "c=float(a)\n",
        "print(type(c))\n",
        "d=bool(a)\n",
        "print(d)\n",
        "e=complex(a)\n",
        "print(type(e))\n",
        "#cant convert alphabets into integers.hence give numbers from 0 to 9.\n"
      ],
      "metadata": {
        "id": "CC67kvV4uFwh"
      },
      "execution_count": null,
      "outputs": []
    },
    {
      "cell_type": "code",
      "source": [
        "# converting int to string,float,boolean,complex\n",
        "a=10\n",
        "print(type(a))\n",
        "print(type(a))\n",
        "b=str(a)\n",
        "print(type(b))\n",
        "c=float(a)\n",
        "print(type(c))\n",
        "d=bool(a)\n",
        "print(d)\n",
        "e=complex(a)\n",
        "print"
      ],
      "metadata": {
        "id": "4eAI4a6RuJTi"
      },
      "execution_count": null,
      "outputs": []
    }
  ]
}