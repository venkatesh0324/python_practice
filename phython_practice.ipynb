{
  "nbformat": 4,
  "nbformat_minor": 0,
  "metadata": {
    "colab": {
      "name": "phython practice.ipynb",
      "provenance": [],
      "authorship_tag": "ABX9TyMpNP7MeWgno1aTnI8+PF34",
      "include_colab_link": true
    },
    "kernelspec": {
      "name": "python3",
      "display_name": "Python 3"
    },
    "language_info": {
      "name": "python"
    }
  },
  "cells": [
    {
      "cell_type": "markdown",
      "metadata": {
        "id": "view-in-github",
        "colab_type": "text"
      },
      "source": [
        "<a href=\"https://colab.research.google.com/github/venkatesh0324/python_practice/blob/main/phython_practice.ipynb\" target=\"_parent\"><img src=\"https://colab.research.google.com/assets/colab-badge.svg\" alt=\"Open In Colab\"/></a>"
      ]
    },
    {
      "cell_type": "code",
      "execution_count": null,
      "metadata": {
        "colab": {
          "base_uri": "https://localhost:8080/"
        },
        "id": "vmpRrCgHIWGi",
        "outputId": "eb223f0d-c0fb-4000-8acb-b320d554b6f8"
      },
      "outputs": [
        {
          "output_type": "stream",
          "name": "stdout",
          "text": [
            "<class 'float'>\n"
          ]
        }
      ],
      "source": [
        "a=10\n",
        "b=40\n",
        "c=45\n",
        "avg=(a+b+c)/3\n",
        "print(type(avg))"
      ]
    },
    {
      "cell_type": "code",
      "source": [
        "a=int(input(\"enter a number\"))"
      ],
      "metadata": {
        "colab": {
          "base_uri": "https://localhost:8080/"
        },
        "id": "OUowPhSjKPw7",
        "outputId": "0d6e998e-6662-4805-bbb5-0e013f7c7625"
      },
      "execution_count": null,
      "outputs": [
        {
          "name": "stdout",
          "output_type": "stream",
          "text": [
            "enter a number50\n"
          ]
        }
      ]
    }
  ]
}