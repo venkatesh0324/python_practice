{
  "nbformat": 4,
  "nbformat_minor": 0,
  "metadata": {
    "colab": {
      "name": "control statements.ipynb",
      "provenance": [],
      "authorship_tag": "ABX9TyMv8aepKHc4Nh3F0KCdCXKO",
      "include_colab_link": true
    },
    "kernelspec": {
      "name": "python3",
      "display_name": "Python 3"
    },
    "language_info": {
      "name": "python"
    }
  },
  "cells": [
    {
      "cell_type": "markdown",
      "metadata": {
        "id": "view-in-github",
        "colab_type": "text"
      },
      "source": [
        "<a href=\"https://colab.research.google.com/github/venkatesh0324/python_practice/blob/main/control_statements.ipynb\" target=\"_parent\"><img src=\"https://colab.research.google.com/assets/colab-badge.svg\" alt=\"Open In Colab\"/></a>"
      ]
    },
    {
      "cell_type": "code",
      "execution_count": 4,
      "metadata": {
        "colab": {
          "base_uri": "https://localhost:8080/"
        },
        "id": "ZpCK_TrrPYt-",
        "outputId": "34299c0c-7712-4024-fc21-8f87cffdb4b6"
      },
      "outputs": [
        {
          "output_type": "stream",
          "name": "stdout",
          "text": [
            "enter the age of a person18\n",
            "eligible for voting\n"
          ]
        }
      ],
      "source": [
        "#find the person eligibile for voting or not\n",
        "a=int(input(\"enter the age of a person\"))\n",
        "if a>=18:\n",
        "    print(\"eligible for voting\")\n",
        "else:\n",
        "    print(\"not eligible for voting\")"
      ]
    },
    {
      "cell_type": "code",
      "source": [
        "#find max of three numbers\n",
        "a=int(input(\"enter the 1st number\"))\n",
        "b=int(input(\"enter the 2nd number\"))\n",
        "c=int(input(\"enter the 3rd number\"))\n",
        "if a>b and a>c:\n",
        "  print(\"a is grater\")\n",
        "elif b>a and b>c:\n",
        "  print(\"b is grater\")\n",
        "else:\n",
        "  print(\"c is grater\")  \n"
      ],
      "metadata": {
        "colab": {
          "base_uri": "https://localhost:8080/"
        },
        "id": "aTyIYWUERlDs",
        "outputId": "19e1a0d8-c678-4670-89a1-a6cc022eb22a"
      },
      "execution_count": 6,
      "outputs": [
        {
          "output_type": "stream",
          "name": "stdout",
          "text": [
            "enter the 1st number2\n",
            "enter the 2nd number3\n",
            "enter the 3rd number4\n",
            "c is grater\n"
          ]
        }
      ]
    },
    {
      "cell_type": "code",
      "source": [
        ""
      ],
      "metadata": {
        "id": "nbbQD0mlTk_T"
      },
      "execution_count": null,
      "outputs": []
    },
    {
      "cell_type": "code",
      "source": [
        "#find the gratest of 5 subject\n",
        "a=int(input(\"enter the 1st subject marks\"))\n",
        "b=int(input(\"enter the 2nd subject marks\"))\n",
        "c=int(input(\"enter the 3rd subject marks\"))\n",
        "d=int(input(\"enter the 4th subject marks\"))\n",
        "e=int(input(\"enter the 5th subject marks\"))\n",
        "if a>b and a>c:\n",
        "  print(\"a is grater\")\n",
        "if b>a and b>c:\n",
        "  print(\"b is grater\")\n",
        "if c>a and c>b:\n",
        "  print(\"c is grater\") \n",
        "if d>a and d>b:\n",
        "  print(\"d is grater\")\n",
        "else:\n",
        "    print(\"e is grater\")"
      ],
      "metadata": {
        "colab": {
          "base_uri": "https://localhost:8080/"
        },
        "id": "sivphFg9T5zi",
        "outputId": "34419113-853a-403b-9d49-8b421586a262"
      },
      "execution_count": 8,
      "outputs": [
        {
          "output_type": "stream",
          "name": "stdout",
          "text": [
            "enter the 1st subject marks45\n",
            "enter the 2nd subject marks36\n",
            "enter the 3rd subject marks57\n",
            "enter the 4th subject marks21\n",
            "enter the 5th subject marks98\n",
            "c is grater\n",
            "e is grater\n"
          ]
        }
      ]
    },
    {
      "cell_type": "code",
      "source": [
        "#find the sum and average of 5 subjects\n",
        "a=int(input(\"enter the 1st subject marks\"))\n",
        "b=int(input(\"enter the 2nd subject marks\"))\n",
        "c=int(input(\"enter the 3rd subject marks\"))\n",
        "d=int(input(\"enter the 4th subject marks\"))\n",
        "e=int(input(\"enter the 5th subject marks\"))\n",
        "sum=a+b+c+d+e\n",
        "print(\"the sum of 5 subects is\",sum)\n",
        "average=sum/5\n",
        "print(\"the average of 5 subects is\",average)\n",
        "percentage=(sum/500)*100\n",
        "print(\"the percentage is\",percentage)"
      ],
      "metadata": {
        "colab": {
          "base_uri": "https://localhost:8080/"
        },
        "id": "DAyUCzYNYFNL",
        "outputId": "46b96792-1d7c-491a-86e8-863b1ed67fe8"
      },
      "execution_count": 9,
      "outputs": [
        {
          "output_type": "stream",
          "name": "stdout",
          "text": [
            "enter the 1st subject marks25\n",
            "enter the 2nd subject marks36\n",
            "enter the 3rd subject marks45\n",
            "enter the 4th subject marks97\n",
            "enter the 5th subject marks63\n",
            "the sum of 5 subects is 266\n",
            "the average of 5 subects is 53.2\n",
            "the percentage is 53.2\n"
          ]
        }
      ]
    },
    {
      "cell_type": "code",
      "source": [
        "#Check whether the triangle is equilateral, isosceles, or scalene triangle\n",
        "a=int(input(\"length of 1st side\"))\n",
        "b=int(input(\"length of 2nd side\"))\n",
        "c=int(input(\"lenght of 3rd side\"))\n",
        "if a==b==c:\n",
        "  print(\"the triangle is equilateral\")\n",
        "elif a==b and a!=c and b==c:\n",
        "  print(\"the triangle is isoceles\")\n",
        "else:\n",
        "  print(\"the triangle is scalen\")\n",
        "  "
      ],
      "metadata": {
        "colab": {
          "base_uri": "https://localhost:8080/"
        },
        "id": "d8bVyhfaZTni",
        "outputId": "353a322e-4712-4fbb-eae0-ec4f55ef7fb7"
      },
      "execution_count": 12,
      "outputs": [
        {
          "output_type": "stream",
          "name": "stdout",
          "text": [
            "length of 1st side12\n",
            "length of 2nd side13\n",
            "lenght of 3rd side15\n",
            "the triangle is scalen\n"
          ]
        }
      ]
    },
    {
      "cell_type": "code",
      "source": [
        "#Check whether entered year is a leap year or not\n",
        "a=int(input(\"enter a year\"))\n",
        "if a%400==0 and a%4==0:\n",
        "   print(\"it is  not a leap year\")\n",
        "else:\n",
        "  print(\"it is a leap year\")\n"
      ],
      "metadata": {
        "colab": {
          "base_uri": "https://localhost:8080/"
        },
        "id": "aU-OjnpgczPz",
        "outputId": "5f38421a-802f-4b49-aaf4-23e107e1891c"
      },
      "execution_count": 15,
      "outputs": [
        {
          "output_type": "stream",
          "name": "stdout",
          "text": [
            "enter a year2004\n",
            "it is not a leap year\n"
          ]
        }
      ]
    }
  ]
}