{
  "nbformat": 4,
  "nbformat_minor": 0,
  "metadata": {
    "colab": {
      "name": "sets.ipynb",
      "provenance": [],
      "authorship_tag": "ABX9TyNxmDpw9sO/QkjXn5JtV4XW",
      "include_colab_link": true
    },
    "kernelspec": {
      "name": "python3",
      "display_name": "Python 3"
    },
    "language_info": {
      "name": "python"
    }
  },
  "cells": [
    {
      "cell_type": "markdown",
      "metadata": {
        "id": "view-in-github",
        "colab_type": "text"
      },
      "source": [
        "<a href=\"https://colab.research.google.com/github/venkatesh0324/python_practice/blob/main/sets.ipynb\" target=\"_parent\"><img src=\"https://colab.research.google.com/assets/colab-badge.svg\" alt=\"Open In Colab\"/></a>"
      ]
    },
    {
      "cell_type": "code",
      "execution_count": 2,
      "metadata": {
        "colab": {
          "base_uri": "https://localhost:8080/"
        },
        "id": "l1toeYRN2HZp",
        "outputId": "0d6e9fe7-166e-4371-a8f0-30c4a3b35cd2"
      },
      "outputs": [
        {
          "output_type": "stream",
          "name": "stdout",
          "text": [
            "cherry\n",
            "orange\n",
            "apple\n",
            "banana\n"
          ]
        }
      ],
      "source": [
        "#looping through sets and adding\n",
        "a = {\"apple\", \"banana\", \"cherry\"}\n",
        "a.add(\"orange\")\n",
        "for x in a:\n",
        "  print(x)"
      ]
    },
    {
      "cell_type": "code",
      "source": [
        "#updating sets\n",
        "a = {\"apple\", \"banana\", \"cherry\"}\n",
        "b = [\"kiwi\", \"orange\"]\n",
        "\n",
        "a.update(b)\n",
        "\n",
        "print(a)\n"
      ],
      "metadata": {
        "colab": {
          "base_uri": "https://localhost:8080/"
        },
        "id": "Tdm92KLo2KYV",
        "outputId": "e8fe7f8a-c236-4cda-a119-fc70dec84be4"
      },
      "execution_count": 3,
      "outputs": [
        {
          "output_type": "stream",
          "name": "stdout",
          "text": [
            "{'cherry', 'kiwi', 'apple', 'banana', 'orange'}\n"
          ]
        }
      ]
    },
    {
      "cell_type": "code",
      "source": [
        "#to discard items in set\n",
        "a = {\"apple\", \"banana\", \"cherry\"}\n",
        "a.remove(\"apple\")\n",
        "print(a)\n"
      ],
      "metadata": {
        "colab": {
          "base_uri": "https://localhost:8080/"
        },
        "id": "wOQXtOsn3qiW",
        "outputId": "eb6550b6-765e-4767-a003-4cba75b32bbf"
      },
      "execution_count": 4,
      "outputs": [
        {
          "output_type": "stream",
          "name": "stdout",
          "text": [
            "{'cherry', 'banana'}\n"
          ]
        }
      ]
    },
    {
      "cell_type": "code",
      "source": [
        ""
      ],
      "metadata": {
        "id": "yZv0MT5Z4RXm"
      },
      "execution_count": null,
      "outputs": []
    }
  ]
}