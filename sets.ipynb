{
  "nbformat": 4,
  "nbformat_minor": 0,
  "metadata": {
    "colab": {
      "name": "sets.ipynb",
      "provenance": [],
      "authorship_tag": "ABX9TyNTtR6gY1PbFQjxkpx+h3OR",
      "include_colab_link": true
    },
    "kernelspec": {
      "name": "python3",
      "display_name": "Python 3"
    },
    "language_info": {
      "name": "python"
    }
  },
  "cells": [
    {
      "cell_type": "markdown",
      "metadata": {
        "id": "view-in-github",
        "colab_type": "text"
      },
      "source": [
        "<a href=\"https://colab.research.google.com/github/venkatesh0324/python_practice/blob/main/sets.ipynb\" target=\"_parent\"><img src=\"https://colab.research.google.com/assets/colab-badge.svg\" alt=\"Open In Colab\"/></a>"
      ]
    },
    {
      "cell_type": "code",
      "execution_count": null,
      "metadata": {
        "colab": {
          "base_uri": "https://localhost:8080/"
        },
        "id": "l1toeYRN2HZp",
        "outputId": "0d6e9fe7-166e-4371-a8f0-30c4a3b35cd2"
      },
      "outputs": [
        {
          "output_type": "stream",
          "name": "stdout",
          "text": [
            "cherry\n",
            "orange\n",
            "apple\n",
            "banana\n"
          ]
        }
      ],
      "source": [
        "#looping through sets and adding\n",
        "a = {\"apple\", \"banana\", \"cherry\"}\n",
        "a.add(\"orange\")\n",
        "for x in a:\n",
        "  print(x)"
      ]
    },
    {
      "cell_type": "code",
      "source": [
        "#updating sets\n",
        "a = {\"apple\", \"banana\", \"cherry\"}\n",
        "b = [\"kiwi\", \"orange\"]\n",
        "\n",
        "a.update(b)\n",
        "\n",
        "print(a)\n"
      ],
      "metadata": {
        "colab": {
          "base_uri": "https://localhost:8080/"
        },
        "id": "Tdm92KLo2KYV",
        "outputId": "e8fe7f8a-c236-4cda-a119-fc70dec84be4"
      },
      "execution_count": null,
      "outputs": [
        {
          "output_type": "stream",
          "name": "stdout",
          "text": [
            "{'cherry', 'kiwi', 'apple', 'banana', 'orange'}\n"
          ]
        }
      ]
    },
    {
      "cell_type": "code",
      "source": [
        "#to discard items in set\n",
        "a = {\"apple\", \"banana\", \"cherry\"}\n",
        "a.remove(\"apple\")\n",
        "print(a)\n"
      ],
      "metadata": {
        "colab": {
          "base_uri": "https://localhost:8080/"
        },
        "id": "wOQXtOsn3qiW",
        "outputId": "eb6550b6-765e-4767-a003-4cba75b32bbf"
      },
      "execution_count": null,
      "outputs": [
        {
          "output_type": "stream",
          "name": "stdout",
          "text": [
            "{'cherry', 'banana'}\n"
          ]
        }
      ]
    },
    {
      "cell_type": "code",
      "source": [
        "#to remove things from set\n",
        "a={\"apple\",\"banana\",\"cherry\"}\n",
        "a.remove(\"banana\")\n",
        "print(a)"
      ],
      "metadata": {
        "id": "yZv0MT5Z4RXm",
        "colab": {
          "base_uri": "https://localhost:8080/"
        },
        "outputId": "f83fcd1c-7b16-460c-95ee-1464b639c14e"
      },
      "execution_count": null,
      "outputs": [
        {
          "output_type": "stream",
          "name": "stdout",
          "text": [
            "{'apple', 'cherry'}\n"
          ]
        }
      ]
    },
    {
      "cell_type": "code",
      "source": [
        "#looping in sets\n",
        "a={\"khalifa\",\"sanjana\",\"srujana\"}\n",
        "for x in a:\n",
        "  print(x)\n"
      ],
      "metadata": {
        "colab": {
          "base_uri": "https://localhost:8080/"
        },
        "id": "bM9HrctJU3MV",
        "outputId": "43755f1e-ccfc-4dff-9cf4-cfb9c5c99b96"
      },
      "execution_count": 3,
      "outputs": [
        {
          "output_type": "stream",
          "name": "stdout",
          "text": [
            "khalifa\n",
            "sanjana\n",
            "srujana\n"
          ]
        }
      ]
    },
    {
      "cell_type": "code",
      "source": [
        "#to join two sets\n",
        "a={\"srujana\",\"sara\",\"thomas\"}\n",
        "b={1,4,3}\n",
        "c = a.union(b)\n",
        "print(c)"
      ],
      "metadata": {
        "id": "zJeFs8_2U8kc",
        "colab": {
          "base_uri": "https://localhost:8080/"
        },
        "outputId": "fd9fcc25-e3d0-4e91-8266-457010af91e5"
      },
      "execution_count": 7,
      "outputs": [
        {
          "output_type": "stream",
          "name": "stdout",
          "text": [
            "{1, 'thomas', 3, 4, 'sara', 'srujana'}\n"
          ]
        }
      ]
    },
    {
      "cell_type": "code",
      "source": [
        "#to update sets\n",
        "v={\"xyz\",\"abc\",\"pqr\"}\n",
        "s={1,2,3}\n",
        "v.update(s)\n",
        "print(v)"
      ],
      "metadata": {
        "id": "0bCBDmLCU8u0",
        "colab": {
          "base_uri": "https://localhost:8080/"
        },
        "outputId": "05f2eff5-98d6-4b4b-f57d-2abda0f3c109"
      },
      "execution_count": 8,
      "outputs": [
        {
          "output_type": "stream",
          "name": "stdout",
          "text": [
            "{1, 'xyz', 2, 'pqr', 3, 'abc'}\n"
          ]
        }
      ]
    },
    {
      "cell_type": "code",
      "source": [
        "#to print only duplicate values in the sets that are present in both the sets\n",
        "x={\"sara\",1,\"jain\",\"hemanth\"}\n",
        "y={1,4,5,\"sara\"}\n",
        "x.intersection_update(y)\n",
        "print(x)\n"
      ],
      "metadata": {
        "id": "9k0cGM25U85E",
        "colab": {
          "base_uri": "https://localhost:8080/"
        },
        "outputId": "234a24b2-aa48-4ca2-ac17-0b08b417ee49"
      },
      "execution_count": 9,
      "outputs": [
        {
          "output_type": "stream",
          "name": "stdout",
          "text": [
            "{1, 'sara'}\n"
          ]
        }
      ]
    },
    {
      "cell_type": "code",
      "source": [
        "#to print the intersection\n",
        "x={\"sara\",1,\"jain\",\"hemanth\"}\n",
        "y={1,4,5,\"sara\"}\n",
        "z=x.intersection(y)\n",
        "print(z)\n"
      ],
      "metadata": {
        "colab": {
          "base_uri": "https://localhost:8080/"
        },
        "id": "r1fVS37IapVL",
        "outputId": "98061df5-5b61-4e0c-feff-917a8c86035f"
      },
      "execution_count": 10,
      "outputs": [
        {
          "output_type": "stream",
          "name": "stdout",
          "text": [
            "{1, 'sara'}\n"
          ]
        }
      ]
    },
    {
      "cell_type": "code",
      "source": [
        "#symetric_difference_update() this will keep only elements that are not present in both sets\n",
        "x={\"sara\",1,\"jain\",\"hemanth\"}\n",
        "y={1,4,5,\"sara\"}\n",
        "x.symmetric_difference_update(y)\n",
        "print(x)"
      ],
      "metadata": {
        "colab": {
          "base_uri": "https://localhost:8080/"
        },
        "id": "nW39rAtUbP1d",
        "outputId": "27879316-c497-477b-bebd-cae89c6cb6f8"
      },
      "execution_count": 11,
      "outputs": [
        {
          "output_type": "stream",
          "name": "stdout",
          "text": [
            "{4, 5, 'hemanth', 'jain'}\n"
          ]
        }
      ]
    },
    {
      "cell_type": "code",
      "source": [
        "#symetric_difference() itt will return a new set that contains only the elemnts\n",
        "x={\"sara\",1,\"jain\",\"hemanth\"}\n",
        "y={1,4,5,\"sara\"}\n",
        "z=x.symmetric_difference(y)\n",
        "print(z)"
      ],
      "metadata": {
        "colab": {
          "base_uri": "https://localhost:8080/"
        },
        "id": "Galo5yqmbP-C",
        "outputId": "eef78a93-1340-4a74-df8b-2bd9f38ac8e5"
      },
      "execution_count": 12,
      "outputs": [
        {
          "output_type": "stream",
          "name": "stdout",
          "text": [
            "{4, 5, 'hemanth', 'jain'}\n"
          ]
        }
      ]
    }
  ]
}