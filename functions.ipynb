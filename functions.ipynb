{
  "nbformat": 4,
  "nbformat_minor": 0,
  "metadata": {
    "colab": {
      "name": "functions.ipynb",
      "provenance": [],
      "authorship_tag": "ABX9TyOea8uwvaz1v15xuS/YWcpV",
      "include_colab_link": true
    },
    "kernelspec": {
      "name": "python3",
      "display_name": "Python 3"
    },
    "language_info": {
      "name": "python"
    }
  },
  "cells": [
    {
      "cell_type": "markdown",
      "metadata": {
        "id": "view-in-github",
        "colab_type": "text"
      },
      "source": [
        "<a href=\"https://colab.research.google.com/github/venkatesh0324/python_practice/blob/main/functions.ipynb\" target=\"_parent\"><img src=\"https://colab.research.google.com/assets/colab-badge.svg\" alt=\"Open In Colab\"/></a>"
      ]
    },
    {
      "cell_type": "code",
      "execution_count": 4,
      "metadata": {
        "colab": {
          "base_uri": "https://localhost:8080/"
        },
        "id": "IzQjQeTDXR-l",
        "outputId": "dd0b75d5-bad0-49d8-d97b-213f28dc2420"
      },
      "outputs": [
        {
          "output_type": "stream",
          "name": "stdout",
          "text": [
            "hi\n",
            "hello\n",
            "bangaram\n",
            "sreenidhi setty\n"
          ]
        }
      ],
      "source": [
        "def venky():\n",
        "  print(\"hi\")\n",
        "  print(\"hello\")\n",
        "  print(\"bangaram\")\n",
        "  print(\"sreenidhi setty\")\n",
        "venky()\n",
        "\n",
        "  "
      ]
    },
    {
      "cell_type": "code",
      "source": [
        "def my_function(wife):\n",
        "  print(wife + \" sara\")\n",
        "\n",
        "my_function(\"jash\")\n",
        "my_function(\"sneha\")\n",
        "my_function(\"dedee\")\n",
        "my_function(\"sreeja\")\n",
        "my_function(\"mia\")"
      ],
      "metadata": {
        "colab": {
          "base_uri": "https://localhost:8080/"
        },
        "id": "dbnOiO3ZXuz8",
        "outputId": "df9c1dfe-28c6-46a9-f278-ce66f37d7910"
      },
      "execution_count": 8,
      "outputs": [
        {
          "output_type": "stream",
          "name": "stdout",
          "text": [
            "jash sara\n",
            "sneha sara\n",
            "dedee sara\n",
            "sreeja sara\n",
            "mia sara\n"
          ]
        }
      ]
    },
    {
      "cell_type": "code",
      "source": [
        "\n",
        "def voting(name,age,gender):\n",
        "  print(\"name=\",name)\n",
        "  print(\"age=\",age)\n",
        "  print(\"gender=\",gender)\n",
        "  if age>=18:\n",
        "    print(\"eligible\")\n",
        "  else:\n",
        "    print(\"not eligible\")  \n",
        "   \n",
        "voting(\"venky\",18,\"gender\")"
      ],
      "metadata": {
        "colab": {
          "base_uri": "https://localhost:8080/"
        },
        "id": "cILtY0XYZCiB",
        "outputId": "ce5d51ac-4ba9-4e6f-d21d-98e466f83719"
      },
      "execution_count": 20,
      "outputs": [
        {
          "output_type": "stream",
          "name": "stdout",
          "text": [
            "name= venky\n",
            "age= 18\n",
            "gender= gender\n",
            "eligible\n"
          ]
        }
      ]
    },
    {
      "cell_type": "code",
      "source": [
        "\n",
        "def voting(name,age,gender):\n",
        "  print(\"name=\",name)\n",
        "  print(\"age=\",age)\n",
        "  print(\"gender=\",gender)\n",
        "  if age>=18:\n",
        "    print(\"eligible\")\n",
        "  else:\n",
        "    print(\"not eligible\")  \n",
        "   \n",
        "voting(str(input()),int(input()),str(input()))"
      ],
      "metadata": {
        "colab": {
          "base_uri": "https://localhost:8080/"
        },
        "id": "zDJFbeYFdtXo",
        "outputId": "1dd40bfc-f0db-4edc-ed93-970c21c7e4c8"
      },
      "execution_count": 23,
      "outputs": [
        {
          "output_type": "stream",
          "name": "stdout",
          "text": [
            "shree bangaram\n",
            "18\n",
            "female\n",
            "name= shree bangaram\n",
            "age= 18\n",
            "gender= female\n",
            "eligible\n"
          ]
        }
      ]
    },
    {
      "cell_type": "code",
      "source": [
        "x= abs(-6.3)\n",
        "y= abs(3+5j)\n",
        "print(x)\n",
        "print(y)"
      ],
      "metadata": {
        "colab": {
          "base_uri": "https://localhost:8080/"
        },
        "id": "M7UEA2uChIwC",
        "outputId": "b60cdf5e-dab4-4177-ab9b-f4631ca59e8d"
      },
      "execution_count": 27,
      "outputs": [
        {
          "output_type": "stream",
          "name": "stdout",
          "text": [
            "6.3\n",
            "5.830951894845301\n"
          ]
        }
      ]
    },
    {
      "cell_type": "code",
      "source": [
        "list=[True,True,True]\n",
        "x=all(list)\n",
        "print(x)"
      ],
      "metadata": {
        "colab": {
          "base_uri": "https://localhost:8080/"
        },
        "id": "Ov0P6vHzmxtB",
        "outputId": "737a0199-37a5-422c-a394-da7f19c15b04"
      },
      "execution_count": 28,
      "outputs": [
        {
          "output_type": "stream",
          "name": "stdout",
          "text": [
            "True\n"
          ]
        }
      ]
    }
  ]
}