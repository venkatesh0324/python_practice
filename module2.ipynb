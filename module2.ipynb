{
  "nbformat": 4,
  "nbformat_minor": 0,
  "metadata": {
    "colab": {
      "name": "module2.ipynb",
      "provenance": [],
      "authorship_tag": "ABX9TyMx5veP+ZirqZkRV91VqlBm",
      "include_colab_link": true
    },
    "kernelspec": {
      "name": "python3",
      "display_name": "Python 3"
    },
    "language_info": {
      "name": "python"
    }
  },
  "cells": [
    {
      "cell_type": "markdown",
      "metadata": {
        "id": "view-in-github",
        "colab_type": "text"
      },
      "source": [
        "<a href=\"https://colab.research.google.com/github/venkatesh0324/python_practice/blob/main/module2.ipynb\" target=\"_parent\"><img src=\"https://colab.research.google.com/assets/colab-badge.svg\" alt=\"Open In Colab\"/></a>"
      ]
    },
    {
      "cell_type": "code",
      "execution_count": 2,
      "metadata": {
        "id": "DU2el4uWHsLK"
      },
      "outputs": [],
      "source": [
        "#ncr\n",
        "def ncr(n,r,):\n",
        "  print(fact(n)/(fact(r)*fact(n-r)))\n",
        "\n",
        "def fact(n):\n",
        "    res=1\n",
        "    for i in range(2,n+1):\n",
        "        res=res*i\n",
        "        return res\n",
        "        n= 6\n",
        "        r= 4\n",
        "        print(int(ncr(n,r)))\n",
        "\n",
        "\n",
        "\n",
        "  "
      ]
    },
    {
      "cell_type": "code",
      "source": [
        "#Program to print a specified list after removing the 0th, 4th and 5th elements.\n",
        "\n",
        "\n",
        "a=['red','green','white','black','pink','yellow']\n",
        "print(a[1:4])\n",
        "\n"
      ],
      "metadata": {
        "colab": {
          "base_uri": "https://localhost:8080/"
        },
        "id": "A0Z0TSH2PQ9m",
        "outputId": "d2bb9554-a514-48f1-aaca-718e187b563e"
      },
      "execution_count": 4,
      "outputs": [
        {
          "output_type": "stream",
          "name": "stdout",
          "text": [
            "['green', 'white', 'black']\n"
          ]
        }
      ]
    },
    {
      "cell_type": "code",
      "source": [
        "a=['red','green','white','black','pink','yellow']\n",
        "del a[0]\n",
        "print(a)"
      ],
      "metadata": {
        "colab": {
          "base_uri": "https://localhost:8080/"
        },
        "id": "Onp37hPMQtG-",
        "outputId": "6b2242a7-1fa2-4487-830d-30ba44e995c3"
      },
      "execution_count": 11,
      "outputs": [
        {
          "output_type": "stream",
          "name": "stdout",
          "text": [
            "['green', 'white', 'black', 'pink', 'yellow']\n"
          ]
        }
      ]
    },
    {
      "cell_type": "code",
      "source": [
        "def common(a,b):\n",
        "a = [\"apple\", \"banana\", \"cherry\"]\n",
        "b= [\"apple\", \"pineapple\", \"cherry\"]\n",
        "a,b=list(set(a).difference(b)),list(set(b).difference(a))\n",
        "print(a)\n",
        "print(b)\n",
        "\n"
      ],
      "metadata": {
        "colab": {
          "base_uri": "https://localhost:8080/",
          "height": 130
        },
        "id": "d2q3kwr-RBes",
        "outputId": "3b4d9f5d-c272-4a77-e445-ce756bb6eb17"
      },
      "execution_count": 18,
      "outputs": [
        {
          "output_type": "error",
          "ename": "IndentationError",
          "evalue": "ignored",
          "traceback": [
            "\u001b[0;36m  File \u001b[0;32m\"<ipython-input-18-6af5824f8876>\"\u001b[0;36m, line \u001b[0;32m2\u001b[0m\n\u001b[0;31m    a = [\"apple\", \"banana\", \"cherry\"]\u001b[0m\n\u001b[0m    ^\u001b[0m\n\u001b[0;31mIndentationError\u001b[0m\u001b[0;31m:\u001b[0m expected an indented block\n"
          ]
        }
      ]
    },
    {
      "cell_type": "code",
      "source": [
        ""
      ],
      "metadata": {
        "id": "H9BxlwqJWWUc"
      },
      "execution_count": null,
      "outputs": []
    }
  ]
}