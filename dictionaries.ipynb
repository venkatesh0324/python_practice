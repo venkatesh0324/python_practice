{
  "nbformat": 4,
  "nbformat_minor": 0,
  "metadata": {
    "colab": {
      "name": "dictionaries.ipynb",
      "provenance": [],
      "authorship_tag": "ABX9TyPM5w067v4C4S+edbMILXwv",
      "include_colab_link": true
    },
    "kernelspec": {
      "name": "python3",
      "display_name": "Python 3"
    },
    "language_info": {
      "name": "python"
    }
  },
  "cells": [
    {
      "cell_type": "markdown",
      "metadata": {
        "id": "view-in-github",
        "colab_type": "text"
      },
      "source": [
        "<a href=\"https://colab.research.google.com/github/venkatesh0324/python_practice/blob/main/dictionaries.ipynb\" target=\"_parent\"><img src=\"https://colab.research.google.com/assets/colab-badge.svg\" alt=\"Open In Colab\"/></a>"
      ]
    },
    {
      "cell_type": "code",
      "execution_count": 1,
      "metadata": {
        "colab": {
          "base_uri": "https://localhost:8080/"
        },
        "id": "oK9Y-URfd1GY",
        "outputId": "ce12727b-835b-47c7-eff2-bd6b34e093cf"
      },
      "outputs": [
        {
          "output_type": "stream",
          "name": "stdout",
          "text": [
            "{'brand': 'Ford', 'model': 'Mustang', 'year': 1964}\n"
          ]
        }
      ],
      "source": [
        "#to create and print a dictonary\n",
        "a = {\n",
        "  \"brand\": \"Ford\",\n",
        "  \"model\": \"Mustang\",\n",
        "  \"year\": 1964\n",
        "}\n",
        "print(a)"
      ]
    },
    {
      "cell_type": "code",
      "source": [
        "placement = {\n",
        "    \"name\":str(input(\"enter name\")),\n",
        "     \"age\":int(input(\"enter your age\")),\n",
        "     \"number\":int(input(\"enter phn number\")),\n",
        "     \"cgpa\":int(input(\"enter cgpa\"))\n",
        "}\n",
        "\n",
        "print(placement)\n"
      ],
      "metadata": {
        "colab": {
          "base_uri": "https://localhost:8080/"
        },
        "id": "P1dJ-6hwgnPz",
        "outputId": "1c2f490a-c15c-475f-f4ed-a8fcba397ea3"
      },
      "execution_count": 11,
      "outputs": [
        {
          "output_type": "stream",
          "name": "stdout",
          "text": [
            "enter name venkatesh\n",
            "enter your age 18\n",
            "enter phn number 7337261827\n",
            "enter cgpa 9\n",
            "{'name': ' venkatesh', 'age': 18, 'number': 7337261827, 'cgpa': 9}\n"
          ]
        }
      ]
    },
    {
      "cell_type": "code",
      "source": [
        ""
      ],
      "metadata": {
        "id": "u56dXoTpk7Rg"
      },
      "execution_count": null,
      "outputs": []
    }
  ]
}