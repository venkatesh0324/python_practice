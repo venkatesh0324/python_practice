{
  "nbformat": 4,
  "nbformat_minor": 0,
  "metadata": {
    "colab": {
      "name": "list/23-03-22.ipynb",
      "provenance": [],
      "authorship_tag": "ABX9TyP4fOWUip69fqxV0nEVF7k8",
      "include_colab_link": true
    },
    "kernelspec": {
      "name": "python3",
      "display_name": "Python 3"
    },
    "language_info": {
      "name": "python"
    }
  },
  "cells": [
    {
      "cell_type": "markdown",
      "metadata": {
        "id": "view-in-github",
        "colab_type": "text"
      },
      "source": [
        "<a href=\"https://colab.research.google.com/github/venkatesh0324/python_practice/blob/main/list_23_03_22.ipynb\" target=\"_parent\"><img src=\"https://colab.research.google.com/assets/colab-badge.svg\" alt=\"Open In Colab\"/></a>"
      ]
    },
    {
      "cell_type": "code",
      "execution_count": 3,
      "metadata": {
        "colab": {
          "base_uri": "https://localhost:8080/"
        },
        "id": "W1-TIADq4eep",
        "outputId": "b3f3bb93-d00b-48e1-bd2b-d9aea96ed80a"
      },
      "outputs": [
        {
          "output_type": "stream",
          "name": "stdout",
          "text": [
            "['apple', 'banana', 'grapes']\n"
          ]
        }
      ],
      "source": [
        "#list\n",
        "fruit=['apple','banana','grapes','orange','mango']\n",
        "print(fruit[0:3])"
      ]
    },
    {
      "cell_type": "code",
      "source": [
        ""
      ],
      "metadata": {
        "id": "01Lc0nY46Hru"
      },
      "execution_count": null,
      "outputs": []
    }
  ]
}