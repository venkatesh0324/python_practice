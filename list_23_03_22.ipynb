{
  "nbformat": 4,
  "nbformat_minor": 0,
  "metadata": {
    "colab": {
      "name": "list/23-03-22.ipynb",
      "provenance": [],
      "authorship_tag": "ABX9TyM3dynyoAcBxhYqS6b8ApP4",
      "include_colab_link": true
    },
    "kernelspec": {
      "name": "python3",
      "display_name": "Python 3"
    },
    "language_info": {
      "name": "python"
    }
  },
  "cells": [
    {
      "cell_type": "markdown",
      "metadata": {
        "id": "view-in-github",
        "colab_type": "text"
      },
      "source": [
        "<a href=\"https://colab.research.google.com/github/venkatesh0324/python_practice/blob/main/list_23_03_22.ipynb\" target=\"_parent\"><img src=\"https://colab.research.google.com/assets/colab-badge.svg\" alt=\"Open In Colab\"/></a>"
      ]
    },
    {
      "cell_type": "code",
      "execution_count": 25,
      "metadata": {
        "colab": {
          "base_uri": "https://localhost:8080/"
        },
        "id": "W1-TIADq4eep",
        "outputId": "39faae24-de23-4c6c-98f7-0687c53de9de"
      },
      "outputs": [
        {
          "output_type": "stream",
          "name": "stdout",
          "text": [
            "['apple', 'banana', 'grapes']\n",
            "mango\n",
            "['apple', 'banana', 'grapes', 'orange']\n",
            "['orange', 'mango']\n",
            "orange\n",
            "['apple', 'kiwi', 'banana', 'grapes', 'orange', 'mango']\n",
            "6\n"
          ]
        }
      ],
      "source": [
        "#list\n",
        "fruit=['apple','banana','grapes','orange','mango']\n",
        "print(fruit[0:3])\n",
        "print(fruit[-1])\n",
        "print(fruit[:-1])\n",
        "print(fruit[3:])\n",
        "print(fruit[3])\n",
        "fruit.insert(1,'kiwi')\n",
        "print(fruit)\n",
        "(fruit.reverse())\n",
        "print(len(fruit))"
      ]
    },
    {
      "cell_type": "code",
      "source": [
        "#deleting list of items\n",
        "list=['p','q','r','s','t']\n",
        "del list[2]\n",
        "print(list)"
      ],
      "metadata": {
        "colab": {
          "base_uri": "https://localhost:8080/"
        },
        "id": "-HDv_fyY8QVe",
        "outputId": "5263ab4b-bdc5-4adf-ef26-ec2528e81773"
      },
      "execution_count": 12,
      "outputs": [
        {
          "output_type": "stream",
          "name": "stdout",
          "text": [
            "['p', 'q', 's', 't']\n"
          ]
        }
      ]
    },
    {
      "cell_type": "code",
      "source": [
        ""
      ],
      "metadata": {
        "id": "01Lc0nY46Hru"
      },
      "execution_count": null,
      "outputs": []
    }
  ]
}