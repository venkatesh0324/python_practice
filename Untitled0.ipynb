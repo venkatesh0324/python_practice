{
  "nbformat": 4,
  "nbformat_minor": 0,
  "metadata": {
    "colab": {
      "name": "Untitled0.ipynb",
      "provenance": [],
      "authorship_tag": "ABX9TyOe3iFMz3smG7VsKT55TifA",
      "include_colab_link": true
    },
    "kernelspec": {
      "name": "python3",
      "display_name": "Python 3"
    },
    "language_info": {
      "name": "python"
    }
  },
  "cells": [
    {
      "cell_type": "markdown",
      "metadata": {
        "id": "view-in-github",
        "colab_type": "text"
      },
      "source": [
        "<a href=\"https://colab.research.google.com/github/venkatesh0324/python_practice/blob/main/Untitled0.ipynb\" target=\"_parent\"><img src=\"https://colab.research.google.com/assets/colab-badge.svg\" alt=\"Open In Colab\"/></a>"
      ]
    },
    {
      "cell_type": "code",
      "execution_count": 4,
      "metadata": {
        "colab": {
          "base_uri": "https://localhost:8080/"
        },
        "id": "ZpCK_TrrPYt-",
        "outputId": "34299c0c-7712-4024-fc21-8f87cffdb4b6"
      },
      "outputs": [
        {
          "output_type": "stream",
          "name": "stdout",
          "text": [
            "enter the age of a person18\n",
            "eligible for voting\n"
          ]
        }
      ],
      "source": [
        "#find the person eligibile for voting or not\n",
        "a=int(input(\"enter the age of a person\"))\n",
        "if a>=18:\n",
        "    print(\"eligible for voting\")\n",
        "else:\n",
        "    print(\"not eligible for voting\")"
      ]
    },
    {
      "cell_type": "code",
      "source": [
        "#find max of three numbers\n",
        "a=int(input(\"enter the 1st number\"))\n",
        "b=int(input(\"enter the 2nd number\"))\n",
        "c=int(input(\"enter the 3rd number\"))\n",
        "if a>b and a>c:\n",
        "  print(\"a is grater\")\n",
        "if b>a and b>c:\n",
        "  print(\"b is grater\")\n",
        "if c>a and c>b:\n",
        "  print(\"c is grater\")  \n"
      ],
      "metadata": {
        "colab": {
          "base_uri": "https://localhost:8080/"
        },
        "id": "aTyIYWUERlDs",
        "outputId": "8c8efcb6-6bda-46fc-e501-e82547acb9fa"
      },
      "execution_count": 5,
      "outputs": [
        {
          "output_type": "stream",
          "name": "stdout",
          "text": [
            "enter the 1st number2\n",
            "enter the 2nd number3\n",
            "enter the 3rd number4\n",
            "c is grater\n"
          ]
        }
      ]
    }
  ]
}